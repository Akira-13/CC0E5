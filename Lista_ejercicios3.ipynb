{
  "cells": [
    {
      "cell_type": "markdown",
      "id": "d4d2e056",
      "metadata": {
        "deletable": false,
        "editable": false,
        "nbgrader": {
          "locked": true
        },
        "id": "d4d2e056"
      },
      "source": [
        "#### Parte 1: Implementar un  árbol de búsqueda binaria\n",
        "\n",
        "Comenzaremos implementando la estructura de datos de un árbol de búsqueda binaria en Python. Por favor, lee cuidadosamente las descripciones de las funciones y complétalas de acuerdo a lo indicado. Debes estar familiarizado con los objetos en Python."
      ]
    },
    {
      "cell_type": "code",
      "execution_count": 1,
      "id": "7d984a20",
      "metadata": {
        "deletable": false,
        "editable": false,
        "nbgrader": {
          "locked": true
        },
        "id": "7d984a20"
      },
      "outputs": [],
      "source": [
        "class Node:\n",
        "    # Implementa un nodo del árbol de búsqueda binaria.\n",
        "    # Constructor para un nodo con una clave y un padre dado.\n",
        "    # El padre puede ser None para un nodo raíz.\n",
        "    def __init__(self, key, parent=None):\n",
        "        self.key = key\n",
        "        self.parent = parent\n",
        "        self.left = None  # Establece que el hijo izquierdo es None\n",
        "        self.right = None # Establece que el hijo derecho es None\n",
        "        # Asegurate de que el puntero izquierdo/derecho del padre\n",
        "        # apunte al nodo recién creado.\n",
        "        if parent is not None:\n",
        "            if key < parent.key:\n",
        "                assert(parent.left is None), 'El padre ya tiene un hijo izquierdo -- no se puede crear el nodo'\n",
        "                parent.left = self\n",
        "            else:\n",
        "                assert key > parent.key, 'La clave es igual a la clave del padre. No se permiten claves duplicadas en un BST ya que rompe algunos algoritmos.'\n",
        "                assert(parent.right is None), 'El padre ya tiene un hijo derecho -- no se puede crear el nodo'\n",
        "                parent.right = self\n",
        "\n",
        "    # Función de utilidad que recorre hacia la izquierda hasta encontrar el descendiente más a la izquierda\n",
        "    def get_leftmost_descendant(self):\n",
        "        if self.left is not None:\n",
        "            return self.left.get_leftmost_descendant()\n",
        "        else:\n",
        "            return self\n",
        "\n",
        "    # Completa el algoritmo de búsqueda a continuación\n",
        "    # Puedes llamar a search recursivamente en el hijo izquierdo o derecho según corresponda.\n",
        "    # Si la búsqueda tiene éxito: devuelve una tupla (True, nodo) donde nodo es el nodo del árbol con la clave buscada.\n",
        "    # Ten en cuenta que si la búsqueda falla en encontrar la clave, debe devolver una tupla (False, nodo),\n",
        "    # donde nodo sería el padre si se fuera a insertar la clave posteriormente.\n",
        "    def search(self, key):\n",
        "        if self.key == key:\n",
        "            return (True, self)\n",
        "        # Código a completar\n",
        "        if self.key < key:\n",
        "            if self.right is None:\n",
        "                return (False, self)\n",
        "            return self.right.search(key)\n",
        "        else:\n",
        "            if self.left is None:\n",
        "                return (False, self)\n",
        "            return self.left.search(key)\n",
        "        return (False, self)\n",
        "        # COMPLETADO\n",
        "\n",
        "    # Completa el algoritmo de inserción a continuación\n",
        "    # Primero, busca la posición donde se insertará la clave, encontrando\n",
        "    # el nodo padre correspondiente para la nueva clave.\n",
        "    # Crea un nuevo nodo con esa clave e insertarlo.\n",
        "    # Retorna None si la clave ya existe en el árbol.\n",
        "    # Retorna el nuevo nodo correspondiente a la clave insertada en caso contrario.\n",
        "    def insert(self, key):\n",
        "        # Código a completar\n",
        "        exists, parent = self.search(key)\n",
        "        if exists:\n",
        "            return None\n",
        "        if parent.key < key:\n",
        "            node = Node(key, parent)\n",
        "        else:\n",
        "            node = Node(key, parent)\n",
        "        return node\n",
        "        # COMPLETADO\n",
        "\n",
        "    # Completa el algoritmo para calcular la altura del árbol\n",
        "    # La altura de un nodo cuyos hijos son ambos None se define como 1.\n",
        "    # La altura de cualquier otro nodo es 1 + el máximo de la altura de sus hijos.\n",
        "    # Retorna un número que represente la altura.\n",
        "    def height(self):\n",
        "        # Código a completar\n",
        "        if self.left is None and self.right is None:\n",
        "            return 1\n",
        "        if self.left is None:\n",
        "            return 1 + self.right.height()\n",
        "        if self.right is None:\n",
        "            return 1 + self.left.height()\n",
        "        return 1 + max(self.left.height(), self.right.height())\n",
        "        # COMPLETADO\n",
        "\n",
        "    # Escribe un algoritmo para eliminar una clave en el árbol.\n",
        "    # Primero, encuentra el nodo en el árbol con la clave.\n",
        "    # Se recomienda dibujar diagramas para visualizar los siguientes casos antes de programar.\n",
        "    # Caso 1: ambos hijos del nodo son None\n",
        "    #   -- En este caso, la eliminación es sencilla: simplemente determinar si el nodo con la clave\n",
        "    #      es el hijo izquierdo o derecho del padre y establecer ese puntero en None en el nodo padre.\n",
        "    # Caso 2: uno de los hijos es None y el otro no lo es.\n",
        "    #   -- Reemplaza el nodo por su único hijo. Es decir,\n",
        "    #      modifica el padre del hijo para que sea el padre del nodo que se elimina.\n",
        "    #      además, ajusta el puntero izquierdo/derecho del padre según corresponda.\n",
        "    # Caso 3: ambos hijos del nodo existen.\n",
        "    #    -- Primero, encuentra su sucesor (ir un paso a la derecha y luego todo lo posible a la izquierda).\n",
        "    #    -- La función get_leftmost_descendant puede ser útil aquí.\n",
        "    #    -- Reemplaza la clave del nodo por la de su sucesor.\n",
        "    #    -- Elimina el nodo sucesor.\n",
        "    # Retorno: no se especifica un valor de retorno\n",
        "    def delete(self, key):\n",
        "        (found, node_to_delete) = self.search(key)\n",
        "        assert(found == True), f\"La clave a eliminar: {key} no existe en el árbol\"\n",
        "        # Nodo sin hijos\n",
        "        if node_to_delete.height() == 1:\n",
        "            # Eliminar árbol\n",
        "            if node_to_delete.parent is None:\n",
        "                node_to_delete = None\n",
        "                return\n",
        "            parent = node_to_delete.parent\n",
        "            if parent.left is node_to_delete:\n",
        "                parent.left = None\n",
        "            else:\n",
        "                parent.right = None\n",
        "            node_to_delete = None\n",
        "            return\n",
        "        # Nodo con un hijo\n",
        "        # El caso en el que ambos hijos sean None ya es atrapado por el condicional anterior\n",
        "        if node_to_delete.left is None or node_to_delete.right is None:\n",
        "            # Nodo raíz\n",
        "            if node_to_delete.parent is None:\n",
        "                node_to_delete = None\n",
        "                return\n",
        "            parent = node_to_delete.parent\n",
        "            child = node_to_delete.left\n",
        "            if child is None:\n",
        "                child = node_to_delete.right\n",
        "            if parent.left is node_to_delete:\n",
        "                parent.left = child\n",
        "            else:\n",
        "                parent.right = child\n",
        "            return\n",
        "        successor = node_to_delete.right.get_leftmost_descendant()\n",
        "        node_to_delete.key = successor.key\n",
        "        s_parent = successor.parent\n",
        "        if s_parent.left is successor:\n",
        "            s_parent.left = None\n",
        "        else:\n",
        "            s_parent.right = None\n",
        "        return"
      ]
    },
    {
      "cell_type": "code",
      "execution_count": 2,
      "id": "48bc34c1",
      "metadata": {
        "deletable": false,
        "editable": false,
        "nbgrader": {
          "locked": true
        },
        "colab": {
          "base_uri": "https://localhost:8080/"
        },
        "id": "48bc34c1",
        "outputId": "de712584-97a8-4111-d456-cd04b52d18be"
      },
      "outputs": [
        {
          "output_type": "stream",
          "name": "stdout",
          "text": [
            "-- Probando la construcción básica de nodos (código proporcionado originalmente) --\n",
            "-- Probando búsqueda --\n",
            "-- Probando inserción --\n",
            "-- Probando altura --\n",
            "¡Pasaron todas las pruebas!\n"
          ]
        }
      ],
      "source": [
        "t1 = Node(25, None)\n",
        "t2 = Node(12, t1)\n",
        "t3 = Node(18, t2)\n",
        "t4 = Node(40, t1)\n",
        "\n",
        "print('-- Probando la construcción básica de nodos (código proporcionado originalmente) --')\n",
        "assert(t1.left == t2), 'prueba 1 falló'\n",
        "assert(t2.parent == t1), 'prueba 2 falló'\n",
        "assert(t2.right == t3), 'prueba 3 falló'\n",
        "assert(t3.parent == t2), 'prueba 4 falló'\n",
        "assert(t1.right == t4), 'prueba 5 falló'\n",
        "assert(t4.left is None), 'prueba 6 falló'\n",
        "assert(t4.right is None), 'prueba 7 falló'\n",
        "# El árbol debería ser:\n",
        "#             25\n",
        "#            /  \\\n",
        "#         12     40\n",
        "#           \\\n",
        "#           18\n",
        "\n",
        "print('-- Probando búsqueda --')\n",
        "(b, found_node) = t1.search(18)\n",
        "assert(b and found_node.key == 18), 'prueba 8 falló'\n",
        "(b, found_node) = t1.search(25)\n",
        "assert(b and found_node.key == 25), 'prueba 9 falló -- debes encontrar el nodo con clave 25, que es la raíz'\n",
        "(b, found_node) = t1.search(26)\n",
        "assert((not b)), 'prueba 10 falló'\n",
        "assert(found_node.key == 40), 'prueba 11 falló -- debes retornar el nodo hoja que sería el padre si se insertara la clave faltante'\n",
        "\n",
        "print('-- Probando inserción --')\n",
        "ins_node = t1.insert(26)\n",
        "assert(ins_node.key == 26), 'prueba 12 falló'\n",
        "assert(ins_node.parent == t4), 'prueba 13 falló'\n",
        "assert(t4.left == ins_node), 'prueba 14 falló'\n",
        "\n",
        "ins_node2 = t1.insert(33)\n",
        "assert(ins_node2.key == 33), 'prueba 15 falló'\n",
        "assert(ins_node2.parent == ins_node), 'prueba 16 falló'\n",
        "assert(ins_node.right == ins_node2), 'prueba 17 falló'\n",
        "\n",
        "print('-- Probando altura --')\n",
        "\n",
        "assert(t1.height() == 4), 'prueba 18 falló'\n",
        "assert(t4.height() == 3), 'prueba 19 falló'\n",
        "assert(t2.height() == 2), 'prueba 20 falló'\n",
        "\n",
        "print('¡Pasaron todas las pruebas!')"
      ]
    },
    {
      "cell_type": "code",
      "execution_count": 3,
      "id": "277a1c07",
      "metadata": {
        "deletable": false,
        "editable": false,
        "nbgrader": {
          "locked": true
        },
        "colab": {
          "base_uri": "https://localhost:8080/"
        },
        "id": "277a1c07",
        "outputId": "5b5195e9-7b1a-4e1c-c80f-7d45fddb1010"
      },
      "outputs": [
        {
          "output_type": "stream",
          "name": "stdout",
          "text": [
            "¡Todas las pruebas pasaron!\n"
          ]
        }
      ],
      "source": [
        "# Probando la eliminación\n",
        "t1 = Node(16, None)\n",
        "# Inserta los nodos de la lista\n",
        "lst = [18, 25, 10, 14, 8, 22, 17, 12]\n",
        "for elt in lst:\n",
        "    t1.insert(elt)\n",
        "\n",
        "# El árbol debería tener la siguiente forma:\n",
        "#               16\n",
        "#            /     \\\n",
        "#          10      18\n",
        "#        /  \\     /  \\\n",
        "#       8   14   17  25\n",
        "#          /         /\n",
        "#         12        22\n",
        "\n",
        "\n",
        "# Probemos los tres casos de eliminación.\n",
        "# Caso 1: eliminar el nodo 8\n",
        "# El nodo 8 no tiene hijos (hoja).\n",
        "t1.delete(8)  # después de eliminar, ambos hijos deben ser None.\n",
        "(b8, n8) = t1.search(8)\n",
        "assert(not b8), 'Prueba A: la eliminación no eliminó el nodo.'\n",
        "(b, n) = t1.search(10)\n",
        "assert(b), 'Prueba B falló: la búsqueda no funciona'\n",
        "assert(n.left is None), 'Prueba C falló: el nodo 8 no fue eliminado correctamente.'\n",
        "\n",
        "# Probemos eliminar el nodo 14, cuyo hijo derecho es None.\n",
        "# n aún apunta al nodo 10 después de eliminar 8.\n",
        "# Asegurémonos de que su hijo derecho sea 14.\n",
        "assert(n.right is not None), 'Prueba D falló: el nodo 10 debería tener un hijo derecho, el nodo 14'\n",
        "assert(n.right.key == 14), 'Prueba E falló: el nodo 10 debería tener el nodo 14 como hijo derecho'\n",
        "\n",
        "# Eliminemos el nodo 14\n",
        "t1.delete(14)\n",
        "(b14, n14) = t1.search(14)\n",
        "assert(not b14), 'Prueba F: La eliminación del nodo 14 falló, aún existe en el árbol.'\n",
        "(b, n) = t1.search(10)\n",
        "assert(n.right is not None), 'Prueba G falló: la eliminación del nodo 14 no se manejó correctamente'\n",
        "assert(n.right.key == 12), f'Prueba H falló: la eliminación del nodo 14 no se manejó correctamente: {n.right.key}'\n",
        "\n",
        "# Eliminemos el nodo 18 del árbol.\n",
        "# Debe ser reemplazado por el nodo 22.\n",
        "\n",
        "t1.delete(18)\n",
        "(b18, n18) = t1.search(18)\n",
        "assert(not b18), 'Prueba I: La eliminación del nodo 18 falló'\n",
        "assert(t1.right.key == 22), 'Prueba J: Falló el reemplazo del nodo con su sucesor.'\n",
        "assert(t1.right.right.left is None), 'Prueba K: Falló la eliminación correcta del nodo sucesor (hoja).'\n",
        "\n",
        "print('¡Todas las pruebas pasaron!')"
      ]
    },
    {
      "cell_type": "markdown",
      "id": "8a24a901",
      "metadata": {
        "deletable": false,
        "editable": false,
        "nbgrader": {
          "locked": true
        },
        "id": "8a24a901"
      },
      "source": [
        "#### Parte 2: Altura de árboles de búsqueda binaria aleatorios\n",
        "\n",
        "La altura de un árbol de búsqueda binaria depende del orden en que se insertan las claves. En este problema, investigamos una curiosa relación entre la profundidad recursiva del algoritmo de quicksort en un arreglo de n elementos y la profundidad de los árboles de búsqueda binaria.\n",
        "\n",
        "Supongamos que deseamos insertar las claves del conjunto $\\{0, \\ldots, n-1\\}$ en un árbol de búsqueda binaria. Responda las siguientes preguntas."
      ]
    },
    {
      "cell_type": "markdown",
      "id": "b3dbc9ce",
      "metadata": {
        "deletable": false,
        "editable": false,
        "nbgrader": {
          "locked": true
        },
        "id": "b3dbc9ce"
      },
      "source": [
        "**Pregunta 1**\n",
        "Proporciona ejemplos de secuencias de inserción tales que el árbol resultante tenga la peor altura posible de $n$."
      ]
    },
    {
      "cell_type": "markdown",
      "id": "7de61fd2",
      "metadata": {
        "deletable": false,
        "editable": false,
        "nbgrader": {
          "locked": true
        },
        "id": "7de61fd2"
      },
      "source": [
        "##### Respuesta\n",
        "\n",
        "Se tienen que insertar desde el primer elemento en orden ascendente o desde el último en orden descendente. Esto causará que el árbol degenere en una lista enlazada de tamaño n.\n",
        "\n",
        "Si se inserta desde el 0, luego 1, luego 2 y en adelante, el árbol tendría la siguiente forma:\n",
        "\n",
        "0 -> 1 -> 2 -> 3 -> 4 ... -> n-1\n",
        "\n",
        "Solo crecería por la derecha y ningún nodo tendría un hijo izquierdo. Esencialmente, sería una lista enlazada."
      ]
    },
    {
      "cell_type": "markdown",
      "id": "97a62710",
      "metadata": {
        "deletable": false,
        "editable": false,
        "nbgrader": {
          "locked": true
        },
        "id": "97a62710"
      },
      "source": [
        "**Pregunta 2**\n",
        "\n",
        "Sea s1,...,sj una secuencia de $j \\geq 1$ claves insertadas, en la cual cada si es un número entre 0 y n-1 y cada número en la secuencia es único.\n",
        "\n",
        "Demuestra que si la secuencia produce un árbol de altura j (el peor caso) entonces s1 debe ser el elemento mínimo o máximo de la secuencia.\n",
        "\n",
        "**Pista:** Una demostración por contradicción funcionará. Primero observa que s1 será la raíz del árbol obtenido. Demuestra que si s1 no es el mínimo o el máximo, el árbol resultante tendrá una altura < j.\n"
      ]
    },
    {
      "cell_type": "markdown",
      "id": "e97baee5",
      "metadata": {
        "id": "e97baee5"
      },
      "source": [
        "##### Respuesta\n",
        "El árbol tiene una altura j, entonces necesariamente s1 es la raíz de este. Por contradicción, asumiendo que algún si > sj sea la raíz, entonces todos sus hijos tendrán que ser o mayor o menor que este. Es decir, todos sus hijos tienen que ser s1....s(i-1) o s(i+1)...s(j). Sin embargo, como es un árbol de altura máxima, entonces necesariamente si debe ser o el primer elemento o el último elemento para que la altura del árbol sea j, el tamaño de la secuencia. Entonces, este o debe ser s1 o sj. En caso sea s1, entonces este puede ser o el mínimo o el máximo elemento de la secuencia para cumplir con la condición de altura máxima. De igual modo, si la raíz es sj, s1 todavía puede ser o el mínimo o máximo de la secuencia, dependiendo de si el árbol se expande por la derecha o izquierda."
      ]
    },
    {
      "cell_type": "markdown",
      "id": "7ccd3f3b",
      "metadata": {
        "deletable": false,
        "editable": false,
        "nbgrader": {
          "locked": true
        },
        "id": "7ccd3f3b"
      },
      "source": [
        "**Pregunta 3**\n",
        "Utilizando la implementación del árbol de búsqueda binaria de la parte 1, completa la función calculateAverageDepth(n, numTrials) que realiza el siguiente experimento numTrials veces.\n",
        "\n",
        "Cada experimento se realiza de la siguiente forma:\n",
        "\n",
        "- Toma una lista de números del 0 al n-1.\n",
        "- Mezcla aleatoriamente la lista: utilice la función random.shuffle o (avanzado) escriba su propio método de mezclar.\n",
        "- Inserta en un árbol los elementos de la lista mezclada en orden.\n",
        "- Calcula y retornar la altura del árbol resultante.\n",
        "\n",
        "Finalmente, se realiza el experimento numTrials veces y se toma el promedio de todas las alturas obtenidas.\n",
        "\n",
        "Luego se graficará la altura promedio de un árbol de búsqueda binaria aleatorio en función de n."
      ]
    },
    {
      "cell_type": "code",
      "execution_count": 4,
      "id": "ecb1fe92",
      "metadata": {
        "deletable": false,
        "editable": false,
        "nbgrader": {
          "locked": true
        },
        "id": "ecb1fe92"
      },
      "outputs": [],
      "source": [
        "import random\n",
        "\n",
        "# 1. Crea una lista de números del 0 al n-1\n",
        "# 2. Mezcla aleatoriamente la lista\n",
        "# 3. Inserta en un árbol los elementos de la lista mezclada en orden.\n",
        "# 4. Devuelve la altura del árbol resultante.\n",
        "def run_single_experiment(n):\n",
        "    ## Codigo a completar\n",
        "    normal_list = list(range(n))\n",
        "    random.shuffle(normal_list)\n",
        "    shuffled_list = normal_list\n",
        "    root = Node(shuffled_list[0], None)\n",
        "    for i in range(1, n):\n",
        "        root.insert(shuffled_list[i])\n",
        "    return root.height()\n",
        "\n",
        "def run_multiple_trials(n, numTrials):\n",
        "    lst_of_depths = [run_single_experiment(n) for j in range(numTrials)]\n",
        "    return (sum(lst_of_depths)/len(lst_of_depths), lst_of_depths)"
      ]
    },
    {
      "cell_type": "code",
      "execution_count": 5,
      "id": "eefba39b",
      "metadata": {
        "deletable": false,
        "editable": false,
        "nbgrader": {
          "locked": true
        },
        "colab": {
          "base_uri": "https://localhost:8080/",
          "height": 1000
        },
        "id": "eefba39b",
        "outputId": "d27f1e3a-ce69-47cc-d487-9c16053e4d89"
      },
      "outputs": [
        {
          "output_type": "stream",
          "name": "stdout",
          "text": [
            "Profundidad promedio para 64 = 11.675\n",
            "Profundidad promedio para 128 = 14.168\n",
            "¡Todas las pruebas pasaron!\n"
          ]
        },
        {
          "output_type": "display_data",
          "data": {
            "text/plain": [
              "<Figure size 640x480 with 1 Axes>"
            ],
            "image/png": "[encoded data removed]"
          },
          "metadata": {}
        },
        {
          "output_type": "display_data",
          "data": {
            "text/plain": [
              "<Figure size 640x480 with 1 Axes>"
            ],
            "image/png": "[encoded data removed]"
          },
          "metadata": {}
        },
        {
          "output_type": "display_data",
          "data": {
            "text/plain": [
              "<Figure size 640x480 with 1 Axes>"
            ],
            "image/png": "[encoded data removed]"
          },
          "metadata": {}
        }
      ],
      "source": [
        "import math\n",
        "import matplotlib.pyplot as plt\n",
        "\n",
        "%matplotlib inline\n",
        "\n",
        "(avg64, lst_of_results_64) = run_multiple_trials(64, 1000)\n",
        "plt.hist(lst_of_results_64)\n",
        "plt.xlim(0, 64)\n",
        "plt.xlabel('Profundidad del árbol')\n",
        "plt.ylabel('Frecuencia')\n",
        "plt.title('Histograma de profundidades para n = 64')\n",
        "print(f'Profundidad promedio para 64 = {avg64}')\n",
        "assert(avg64 <= 12 and avg64 >= 8)\n",
        "\n",
        "plt.figure()\n",
        "(avg128, lst_of_results_128) = run_multiple_trials(128, 1000)\n",
        "print(f'Profundidad promedio para 128 = {avg128}')\n",
        "assert(avg128 <= 16 and avg128 >= 12)\n",
        "\n",
        "plt.hist(lst_of_results_128)\n",
        "plt.xlim(0, 128)\n",
        "plt.xlabel('Profundidad del Árbol')\n",
        "plt.ylabel('Frecuencia')\n",
        "plt.title('Histograma de profundidades para n = 128')\n",
        "\n",
        "nmin = 16\n",
        "nmax = 64\n",
        "\n",
        "lst_of_average_depths = [run_multiple_trials(j, 1000)[0] for j in range(nmin, nmax)]\n",
        "plt.figure()\n",
        "l1 = plt.plot(range(nmin, nmax), lst_of_average_depths, label='Prof. Promedio')\n",
        "plt.xlabel('n')\n",
        "plt.ylabel('Profundidad')\n",
        "l2 = plt.plot(range(nmin, nmax), [1.6 * math.log(j)/math.log(2) for j in range(nmin, nmax)], '--r', label='1.6 log₂(n)')\n",
        "l3 = plt.plot(range(nmin, nmax), [2.2 * math.log(j)/math.log(2) for j in range(nmin, nmax)], '--b', label='2.2 log₂(n)')\n",
        "# plt.legend()\n",
        "plt.title('Profundidad promedio en función de n y comparación con 1.6 log₂(n) y 2.2 log₂(n)')\n",
        "print('¡Todas las pruebas pasaron!')\n"
      ]
    },
    {
      "cell_type": "markdown",
      "id": "9830c94e",
      "metadata": {
        "deletable": false,
        "editable": false,
        "nbgrader": {
          "locked": true
        },
        "id": "9830c94e"
      },
      "source": [
        "Los histogramas y gráficos deben mostrar un hecho sorprendente: aunque la peor altura puede ser tan grande como $n$, la altura de un árbol de búsqueda binaria aleatorio se concentra entre $1.8\\log_2(n)$ y $2.2\\log_2(n)$.\n",
        "\n",
        "Esto es interesante, ya que si se garantiza que las claves se insertan de forma aleatoria, un BST puede estar bastante balanceado con muy alta probabilidad. Existen muchas ideas ingeniosas para lograr esto en la práctica, incluso si el usuario no inserta las claves aleatoriamente. Una forma es mediante _treaps_, que veremos en clase."
      ]
    },
    {
      "cell_type": "markdown",
      "id": "5ddbf7ea-5464-4275-a24f-a532739f06f2",
      "metadata": {
        "deletable": false,
        "editable": false,
        "nbgrader": {
          "locked": true
        },
        "id": "5ddbf7ea-5464-4275-a24f-a532739f06f2"
      },
      "source": [
        "**Extensiones**\n",
        "\n",
        "- Investiga y demuestra que, para un BST construido con inserciones en orden aleatorio, la altura esperada es $O(\\log n)$. Puedes incluso analizar el comportamiento en el peor caso y comparar con el caso promedio.\n",
        "- Formaliza y demuestra que las operaciones de inserción y eliminación mantienen la propiedad fundamental del BST (es decir, para cada nodo, todos los nodos en el subárbol izquierdo son menores y los del subárbol derecho son mayores).\n",
        "- Demuestra teóricamente cómo la asignación aleatoria de prioridades en un treap conduce a un árbol balanceado en promedio. Analiza la distribución de la altura y compárala con la de un BST no balanceado.\n",
        "- Considera la extensión de un BST a un árbol de orden estadístico, en el cual cada nodo almacena el tamaño de su subárbol. Esto te permite responder consultas del tipo \"¿cuál es el k-ésimo elemento más pequeño?\" en tiempo logarítmico.\n",
        "\n"
      ]
    },
    {
      "cell_type": "markdown",
      "id": "728f5c31",
      "metadata": {
        "deletable": false,
        "editable": false,
        "nbgrader": {
          "locked": true
        },
        "id": "728f5c31"
      },
      "source": [
        "Tus respuestas"
      ]
    },
    {
      "cell_type": "markdown",
      "id": "1358a55e",
      "metadata": {
        "deletable": false,
        "editable": false,
        "nbgrader": {
          "locked": true
        },
        "id": "1358a55e"
      },
      "source": [
        "**Implementaciones**\n",
        "\n",
        "- Completa las funciones de **búsqueda**, **inserción**, **cálculo de la altura** y **eliminación**. Agregar recorridos (in-order, pre-order, post-order) y funciones de impresión para visualizar la estructura del árbol.\n",
        "  \n",
        "- Implementa y compara algoritmos de balanceo (como los árboles AVL o árboles Rojo-Negro) que realizan rotaciones para mantener el árbol balanceado después de cada inserción o eliminación.\n",
        "\n",
        "- Implementa un treap completo, donde cada nodo tiene una clave y una prioridad. Realiza operaciones de **split** y **merge**, y estudia cómo estas operaciones permiten mantener el balance probabilístico del árbol.Compara el rendimiento de operaciones en el treap con el BST tradicional en simulaciones experimentales.\n",
        "\n",
        "- Realiza experimentos similares al que se muestra en el código, variando el número de nodos y estudiando la distribución de las alturas del árbol. Compara la eficiencia en tiempo de búsqueda, inserción y eliminación entre BST, treaps y otras estructuras balanceadas. Implementa visualizaciones gráficas (por ejemplo, histogramas o gráficos de dispersión) para analizar la relación entre el tamaño del árbol y su altura.\n",
        "\n"
      ]
    },
    {
      "cell_type": "code",
      "execution_count": 6,
      "id": "ee203546-aefc-445e-bf4f-a50b5a99a70f",
      "metadata": {
        "deletable": false,
        "editable": false,
        "nbgrader": {
          "locked": true
        },
        "id": "ee203546-aefc-445e-bf4f-a50b5a99a70f"
      },
      "outputs": [],
      "source": [
        "## Tus respuestas"
      ]
    }
  ],
  "metadata": {
    "kernelspec": {
      "display_name": "base",
      "language": "python",
      "name": "python3"
    },
    "language_info": {
      "codemirror_mode": {
        "name": "ipython",
        "version": 3
      },
      "file_extension": ".py",
      "mimetype": "text/x-python",
      "name": "python",
      "nbconvert_exporter": "python",
      "pygments_lexer": "ipython3",
      "version": "3.12.7"
    },
    "colab": {
      "provenance": []
    }
  },
  "nbformat": 4,
  "nbformat_minor": 5
}