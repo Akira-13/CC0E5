{
 "cells": [
  {
   "cell_type": "markdown",
   "id": "bf6baf5f-fa49-47ae-ba55-648229981375",
   "metadata": {
    "deletable": false,
    "editable": false,
    "nbgrader": {
     "grade": false,
     "locked": true,
     "solution": false
    }
   },
   "source": [
    "### Prueba de entrada\n",
    "\n",
    "Presenta la ruta del repositorio donde se encuentra un cuaderno  de jupyter notebook con todas tus respuestas."
   ]
  },
  {
   "cell_type": "markdown",
   "id": "15495e6c-9dc1-4810-8093-d8a54b764446",
   "metadata": {
    "deletable": false,
    "editable": false,
    "nbgrader": {
     "grade": false,
     "locked": true,
     "solution": false
    }
   },
   "source": [
    "#### **Pregunta 1**\n",
    "\n",
    "Estás organizando una fiesta. En preparación, vas a preparar una bebida mezclando tres tipos diferentes de jugo de fruta: **manzana**, **plátano** y **zanahoria**. Llamemos a los jugos **A**, **B** y **C**.\n",
    "\n",
    "Quieres decidir qué fracción de la bebida debe estar compuesta por cada tipo de jugo, de tal manera que el **número máximo posible de personas** que asistan a la fiesta **la disfruten**.\n",
    "\n",
    "Cada persona tiene una fracción mínima de cada uno de los 3 jugos que desea tener en la bebida. Solo les gustará la bebida si la fracción de cada uno de los 3 jugos en la mezcla es **mayor o igual** a su fracción mínima para ese jugo.\n",
    "\n",
    "Tu objetivo es **determinar el número máximo de personas** que puedes satisfacer.\n",
    "\n",
    "##### **Entrada**\n",
    "\n",
    "- Una línea con un entero `T`, que representa el número de casos de prueba.\n",
    "\n",
    "Para cada caso de prueba, habrá:\n",
    "\n",
    "- Una línea con un entero `N`, el número de personas que van a la fiesta.\n",
    "- `N` líneas adicionales, cada una para una persona, conteniendo tres números enteros separados por espacios: `\"A B C\"`, que representan la fracción mínima de cada jugo que desea esa persona en la bebida.\n",
    "\n",
    "Los valores de `A`, `B` y `C` están entre **0 y 10,000** inclusive, y representan fracciones en partes por diez mil.  \n",
    "Se garantiza que para cada persona se cumple: `A + B + C < 10,000`.\n",
    "\n",
    "También se garantiza:\n",
    "```\n",
    "1 ≤ T ≤ 2\n",
    "1 ≤ N ≤ 5000\n",
    "```\n",
    "**Salida**\n",
    "\n",
    "- Se deben imprimir `T` líneas, una por cada caso de prueba, en el orden en que aparecen en la entrada.\n",
    "- Cada línea debe contener la cadena:\n",
    "\n",
    "```\n",
    "Caso #X: Y\n",
    "```\n",
    "\n",
    "Donde:\n",
    "- `X` es el número del caso de prueba (empezando en 1),\n",
    "- `Y` es el número máximo de personas que disfrutarán la bebida preparada.\n",
    "\n",
    "**Ejemplo de entrada 1**\n",
    "\n",
    "```\n",
    "2\n",
    "3\n",
    "10000 0 0\n",
    "0 10000 0\n",
    "0 0 10000\n",
    "3\n",
    "5000 0 0\n",
    "0 2000 0\n",
    "0 0 4000\n",
    "```\n",
    "\n",
    "**Ejemplo de salida 1**\n",
    "\n",
    "```\n",
    "Caso #1: 1\n",
    "Caso #2: 2\n",
    "```\n",
    "**Ejemplo de entrada 2**\n",
    "\n",
    "```\n",
    "1\n",
    "5\n",
    "0 1250 0\n",
    "3000 0 3000\n",
    "1000 1000 1000\n",
    "2000 1000 2000\n",
    "1000 3000 2000\n",
    "```\n",
    "\n",
    "**Ejemplo de salida 2**\n",
    "\n",
    "```\n",
    "Caso #1: 5\n",
    "```\n"
   ]
  },
  {
   "cell_type": "markdown",
   "id": "f8b035fb-8778-457b-8c10-99d77d5bb6af",
   "metadata": {
    "deletable": false,
    "editable": false,
    "nbgrader": {
     "grade": false,
     "locked": true,
     "solution": false
    }
   },
   "source": [
    "#### **Pregunta 2**\n",
    "\n",
    "Durante el verano, las ciudades antiguas de Europa se llenan de turistas que recorren las calles y visitan los puntos de interés.\n",
    "\n",
    "Muchas de estas ciudades fueron construidas de manera orgánica, sin seguir un plan arquitectónico definido, pero curiosamente, su crecimiento sigue un patrón común: las ciudades comienzan con **tres puntos de interés**, en los cuales **cada par está conectado** por una calle bidireccional. Luego, de manera gradual, se agregan nuevos puntos de interés.  \n",
    "Cada nuevo punto se conecta mediante **dos calles bidireccionales** a **dos puntos anteriores diferentes**, que **ya estaban conectados directamente entre sí**.\n",
    "\n",
    "Un turista desea hacer un recorrido visitando **la mayor cantidad posible de puntos de interés diferentes**. El recorrido puede comenzar en **cualquier punto**, pero debe terminar en el **mismo punto**.\n",
    "\n",
    "Las reglas del recorrido son:\n",
    "\n",
    "- Cada **calle** puede recorrerse **a lo sumo una vez**.\n",
    "- Cada **punto de interés** puede visitarse **a lo sumo una vez**, excepto por el **punto de inicio**, que se visitará exactamente dos veces (al inicio y al final).\n",
    "\n",
    "\n",
    "**Objetivo**\n",
    "\n",
    "Dada la descripción de cómo creció la ciudad, determina **el mayor número de puntos de interés diferentes** que se pueden visitar en un solo recorrido.\n",
    "\n",
    "\n",
    "**Entrada**\n",
    "\n",
    "- La primera línea contiene un número entero `T`, que representa el número de casos de prueba.\n",
    "\n",
    "Para cada caso de prueba:\n",
    "\n",
    "- Una línea con un entero `N`,  el número total de puntos de interés en la ciudad.  \n",
    "  Los puntos se numeran del `1` al `N`.\n",
    "\n",
    "  - Los puntos `1`, `2` y `3` son los originales con los que la ciudad empezó.\n",
    "  - Los puntos `4` hasta `N` son los que se añadieron posteriormente.\n",
    "\n",
    "- Las siguientes `N -3` líneas contienen **dos enteros separados por espacio**, `A B`, que indican que el punto correspondiente se conecta mediante calles a los puntos `A` y `B`.\n",
    "\n",
    "  - La primera de estas líneas corresponde al punto `4`, la segunda al `5`, y así sucesivamente.\n",
    "\n",
    "**Salida**\n",
    "\n",
    "Para cada caso de prueba, se debe imprimir una línea con el siguiente formato:\n",
    "\n",
    "```\n",
    "Caso #x: y\n",
    "```\n",
    "\n",
    "Donde:\n",
    "- `x` es el número del caso de prueba (comenzando desde 1),\n",
    "- `y` es el **mayor número de puntos de interés** que se pueden visitar en un recorrido válido por esa ciudad.\n",
    "\n",
    "**Límites**\n",
    "\n",
    "- `1 ≤ T ≤ 50`  \n",
    "- `4 ≤ N ≤ 1000`\n",
    "\n",
    "**Ejemplo de entrada**\n",
    "\n",
    "```\n",
    "2\n",
    "5\n",
    "1 2\n",
    "2 1\n",
    "6\n",
    "1 2\n",
    "1 4\n",
    "4 5\n",
    "```\n",
    "**Ejemplo de salida**\n",
    "\n",
    "```\n",
    "Caso #1: 4\n",
    "Caso #2: 6\n",
    "```"
   ]
  },
  {
   "cell_type": "markdown",
   "id": "0dd70a34-21c9-4941-901b-c844dd407dae",
   "metadata": {
    "deletable": true,
    "editable": true,
    "nbgrader": {
     "grade": true,
     "locked": false,
     "solution": true
    }
   },
   "source": [
    "## Respuestas\n",
    "### Pregunta 1"
   ]
  },
  {
   "cell_type": "markdown",
   "id": "1bcd2dc2-c734-422a-9058-6c8e94eae949",
   "metadata": {
    "editable": true,
    "nbgrader": {
     "grade": true,
     "locked": false,
     "solution": true
    }
   },
   "source": [
    "## Respuestas\n",
    "### Pregunta 2"
   ]
  },
  {
   "cell_type": "code",
   "execution_count": 2,
   "id": "544509e6-e8f3-4b69-82ec-4c7c4a2d6ba1",
   "metadata": {},
   "outputs": [
    {
     "name": "stdin",
     "output_type": "stream",
     "text": [
      " 2\n",
      " 5\n",
      " 1 2\n",
      " 2 1\n"
     ]
    },
    {
     "name": "stdout",
     "output_type": "stream",
     "text": [
      "Caso #1: 4\n"
     ]
    },
    {
     "name": "stdin",
     "output_type": "stream",
     "text": [
      " 6\n",
      " 1 2\n",
      " 1 4\n",
      " 4 5\n"
     ]
    },
    {
     "name": "stdout",
     "output_type": "stream",
     "text": [
      "Caso #2: 6\n"
     ]
    }
   ],
   "source": [
    "def build_city_from_input():\n",
    "    N = int(input())\n",
    "    assert 4 <= N and N <= 1000\n",
    "    city = [[2, 3], [1, 3], [1, 2]]  # Estado inicial de la ciudad por defecto\n",
    "    for n in range(3, N):\n",
    "        points = input().split()\n",
    "        point_a, point_b = int(points[0]), int(points[1])\n",
    "        city.append([point_a, point_b])\n",
    "        city[point_a - 1].append(n + 1)\n",
    "        city[point_b - 1].append(n + 1)\n",
    "    return city\n",
    "\n",
    "\n",
    "def find_path(city):\n",
    "    def dfs_cycle(point, path=[], best_length=0, best_path=[]):\n",
    "        for nbor in city[point - 1]:\n",
    "            if nbor not in path:\n",
    "                path.append(nbor)\n",
    "                possible_path, possible_length = dfs_cycle(\n",
    "                    nbor, path, best_length, best_path\n",
    "                )\n",
    "                if possible_length > best_length:\n",
    "                    best_path = possible_path\n",
    "                    best_length = possible_length\n",
    "                path.pop()\n",
    "        if path[0] in city[point - 1]:\n",
    "            if len(path) > best_length:\n",
    "                return path, len(path)\n",
    "        return best_path, best_length\n",
    "\n",
    "    best_length = 0\n",
    "    best_path = 0\n",
    "    for point in range(len(city)):\n",
    "        possible_path, possible_length = dfs_cycle(point + 1, [point + 1])\n",
    "        if possible_length > best_length:\n",
    "            best_length = possible_length\n",
    "            best_path = possible_path\n",
    "    return best_path, best_length\n",
    "\n",
    "\n",
    "def main():\n",
    "    T = int(input())\n",
    "    assert 1 <= T and T <= 50\n",
    "    for t in range(T):\n",
    "        city = build_city_from_input()\n",
    "        _, best_path_length = find_path(city)\n",
    "        print(f\"Caso #{t+1}: {best_path_length}\")\n",
    "\n",
    "\n",
    "if __name__ == \"__main__\":\n",
    "    main()\n"
   ]
  },
  {
   "cell_type": "code",
   "execution_count": null,
   "id": "0319a927-e4f5-4239-98d1-df85f5d0a652",
   "metadata": {},
   "outputs": [],
   "source": []
  }
 ],
 "metadata": {
  "kernelspec": {
   "display_name": "Python 3 (ipykernel)",
   "language": "python",
   "name": "python3"
  },
  "language_info": {
   "codemirror_mode": {
    "name": "ipython",
    "version": 3
   },
   "file_extension": ".py",
   "mimetype": "text/x-python",
   "name": "python",
   "nbconvert_exporter": "python",
   "pygments_lexer": "ipython3",
   "version": "3.12.7"
  }
 },
 "nbformat": 4,
 "nbformat_minor": 5
}
